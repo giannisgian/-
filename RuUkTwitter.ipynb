{
  "nbformat": 4,
  "nbformat_minor": 0,
  "metadata": {
    "colab": {
      "name": "RuUkTwitter.ipynb",
      "provenance": [],
      "authorship_tag": "ABX9TyMk/jWssYChjWsipIUHdCEY",
      "include_colab_link": true
    },
    "kernelspec": {
      "name": "python3",
      "display_name": "Python 3"
    },
    "language_info": {
      "name": "python"
    }
  },
  "cells": [
    {
      "cell_type": "markdown",
      "metadata": {
        "id": "view-in-github",
        "colab_type": "text"
      },
      "source": [
        "<a href=\"https://colab.research.google.com/github/giannisgian/Teliki-ergasia/blob/main/RuUkTwitter.ipynb\" target=\"_parent\"><img src=\"https://colab.research.google.com/assets/colab-badge.svg\" alt=\"Open In Colab\"/></a>"
      ]
    },
    {
      "cell_type": "code",
      "execution_count": null,
      "metadata": {
        "id": "OYr-ttbvVFOy"
      },
      "outputs": [],
      "source": [
        "!pip install Twython\n",
        "import pandas as pd\n",
        "import numpy as np \n",
        "from PIL import Image\n",
        "from twython import Twython\n",
        "from twython import TwythonError\n",
        "import requests\n",
        "from datetime import datetime\n",
        "import ast\n",
        "import time\n",
        "import matplotlib.pyplot as plt\n",
        "from wordcloud import WordCloud, STOPWORDS\n",
        "from collections import Counter\n",
        "from nltk.corpus import stopwords\n",
        "from nltk.util import ngrams\n",
        "from sklearn.feature_extraction.text import CountVectorizer\n",
        "plt.style.use('ggplot')\n",
        "\n",
        "CONSUMER_KEY = \"DyoTjohC4arsxLFBjmh71l5Fi\"\n",
        "CONSUMER_SECRET = \"sWE3WV27dOOsZnRpSo19bZCojZykVqftYh1uAQvCwqviro4jT1\"\n",
        "OAUTH_TOKEN = \"1133494860554604545-aQrvZDpNyxgi6MwQbHegX8Bkx6CUfI\"\n",
        "OAUTH_TOKEN_SECRET = \"inqueIKTVIqqKGXKiHS7dOwNvSmCQdWgYN83ih1kQkNkS\"\n",
        "twitter = Twython(\n",
        "    CONSUMER_KEY, CONSUMER_SECRET,\n",
        "    OAUTH_TOKEN, OAUTH_TOKEN_SECRET)"
      ]
    },
    {
      "cell_type": "code",
      "source": [
        "import spacy\n",
        "!python -m spacy download el_core_news_sm"
      ],
      "metadata": {
        "id": "85VbX4WnVH8_"
      },
      "execution_count": null,
      "outputs": []
    },
    {
      "cell_type": "code",
      "source": [
        "from google.colab import drive\n",
        "drive.mount('/content/gdrive')"
      ],
      "metadata": {
        "id": "J9W0m-ZCYCUR"
      },
      "execution_count": null,
      "outputs": []
    },
    {
      "cell_type": "markdown",
      "source": [
        "# Rus Embassy Greece"
      ],
      "metadata": {
        "id": "h6TUBhG7YGRu"
      }
    },
    {
      "cell_type": "markdown",
      "source": [
        "https://twitter.com/RFEmbassyGr"
      ],
      "metadata": {
        "id": "J_BonlxeYMSt"
      }
    },
    {
      "cell_type": "code",
      "source": [
        "Rus = []\n",
        "try:\n",
        "    user_timeline = twitter.get_user_timeline(screen_name='RFEmbassyGr',count=200, tweet_mode = 'extended'  )\n",
        "except TwythonError as e:\n",
        "    print(\"Error getting tweets:\", e)\n",
        "print(\"I Got:\", len(user_timeline), \" tweets\")\n",
        "for tweet in user_timeline:\n",
        "    # Add whatever you want from the tweet, here we just add the text\n",
        "    Rus.append(tweet)"
      ],
      "metadata": {
        "id": "z1eDYkZZYO-L"
      },
      "execution_count": null,
      "outputs": []
    },
    {
      "cell_type": "code",
      "source": [
        "pd.DataFrame(Rus)"
      ],
      "metadata": {
        "id": "CvkBG4Y_YRix"
      },
      "execution_count": null,
      "outputs": []
    },
    {
      "cell_type": "code",
      "source": [
        "# Count could be less than 200, see:\n",
        "# https://dev.twitter.com/discussions/7513\n",
        "while len(user_timeline) != 0: \n",
        "    try:\n",
        "        user_timeline = twitter.get_user_timeline(screen_name='RFEmbassyGr',count=100,\n",
        "                                                  tweet_mode = 'extended', max_id=user_timeline[len(user_timeline)-1]['id']-1)\n",
        "    except TwythonError as e:\n",
        "        print(\"Error getting tweets:\", e)\n",
        "    if len(user_timeline) > 0:\n",
        "        print(\"I Got:\", len(user_timeline), \" tweets more... Last ID:\", user_timeline[len(user_timeline)-1]['id']-1)\n",
        "    for tweet in user_timeline:\n",
        "        # Add whatever you want from the tweet, here we just add the text\n",
        "        Rus.append(tweet)\n",
        "# Number of tweets the user has made\n",
        "print(\"I got :\", len(Rus), \" in total!!!\")"
      ],
      "metadata": {
        "id": "Ba3VReWtYTrL"
      },
      "execution_count": null,
      "outputs": []
    },
    {
      "cell_type": "code",
      "source": [
        "# Number of tweets the user has made\n",
        "print(\"I got :\", len(Rus), \" in total!!!\")\n",
        "#len(Rus)"
      ],
      "metadata": {
        "id": "BK4G_Q0mYXJF"
      },
      "execution_count": null,
      "outputs": []
    },
    {
      "cell_type": "code",
      "source": [
        "for tweet in Rus:\n",
        "    print(tweet['created_at'],tweet['full_text'])"
      ],
      "metadata": {
        "id": "e1WL7oYnYbBW"
      },
      "execution_count": null,
      "outputs": []
    },
    {
      "cell_type": "code",
      "source": [
        "#Rus[0]"
      ],
      "metadata": {
        "id": "h8zvahzkYeWh"
      },
      "execution_count": null,
      "outputs": []
    },
    {
      "cell_type": "code",
      "source": [
        "Rus_df = pd.DataFrame(Rus)\n",
        "#Rus_df"
      ],
      "metadata": {
        "id": "fSqPN55rYezg"
      },
      "execution_count": null,
      "outputs": []
    },
    {
      "cell_type": "code",
      "source": [
        "Rus_df.to_csv(\"/content/gdrive/My Drive/Colab Notebooks/Rus.tsv\", sep='\\t')"
      ],
      "metadata": {
        "id": "H0pAc6DDYgce"
      },
      "execution_count": null,
      "outputs": []
    },
    {
      "cell_type": "markdown",
      "source": [
        "# Ukr Embassy Greece"
      ],
      "metadata": {
        "id": "btQVzSafhhIg"
      }
    },
    {
      "cell_type": "markdown",
      "source": [
        "https://twitter.com/ukringrc"
      ],
      "metadata": {
        "id": "6sjuaiXxhhIg"
      }
    },
    {
      "cell_type": "code",
      "source": [
        "Ukr = []\n",
        "try:\n",
        "    user_timeline = twitter.get_user_timeline(screen_name='UKRinGRC',count=200, tweet_mode = 'extended'  )\n",
        "except TwythonError as e:\n",
        "    print(\"Error getting tweets:\", e)\n",
        "print(\"I Got:\", len(user_timeline), \" tweets\")\n",
        "for tweet in user_timeline:\n",
        "    # Add whatever you want from the tweet, here we just add the text\n",
        "    Ukr.append(tweet)"
      ],
      "metadata": {
        "colab": {
          "base_uri": "https://localhost:8080/"
        },
        "outputId": "d1e5adfe-506f-420b-cb23-9d3535b16e4e",
        "id": "mcWPh_jnhhIg"
      },
      "execution_count": null,
      "outputs": [
        {
          "output_type": "stream",
          "name": "stdout",
          "text": [
            "I Got: 200  tweets\n"
          ]
        }
      ]
    },
    {
      "cell_type": "code",
      "source": [
        "pd.DataFrame(Ukr)"
      ],
      "metadata": {
        "id": "p7N6KfwbYvPr"
      },
      "execution_count": null,
      "outputs": []
    },
    {
      "cell_type": "code",
      "source": [
        "# Count could be less than 200, see:\n",
        "# https://dev.twitter.com/discussions/7513\n",
        "while len(user_timeline) != 0: \n",
        "    try:\n",
        "        user_timeline = twitter.get_user_timeline(screen_name='UKRinGRC',count=100,\n",
        "                                                  tweet_mode = 'extended', max_id=user_timeline[len(user_timeline)-1]['id']-1)\n",
        "    except TwythonError as e:\n",
        "        print(\"Error getting tweets:\", e)\n",
        "    if len(user_timeline) > 0:\n",
        "        print(\"I Got:\", len(user_timeline), \" tweets more... Last ID:\", user_timeline[len(user_timeline)-1]['id']-1)\n",
        "    for tweet in user_timeline:\n",
        "        # Add whatever you want from the tweet, here we just add the text\n",
        "        Ukr.append(tweet)\n",
        "# Number of tweets the user has made\n",
        "print(\"I got :\", len(Ukr), \" in total!!!\")"
      ],
      "metadata": {
        "id": "z9WzR0yEY3A0"
      },
      "execution_count": null,
      "outputs": []
    },
    {
      "cell_type": "code",
      "source": [
        "# Number of tweets the user has made\n",
        "print(\"I got :\", len(Ukr), \" in total!!!\")\n",
        "#len(Rus)"
      ],
      "metadata": {
        "id": "AywsR1gfY5ze"
      },
      "execution_count": null,
      "outputs": []
    },
    {
      "cell_type": "code",
      "source": [
        "for tweet in Ukr:\n",
        "    print(tweet['created_at'],tweet['full_text'])"
      ],
      "metadata": {
        "id": "ah-7_3_gY8E2"
      },
      "execution_count": null,
      "outputs": []
    },
    {
      "cell_type": "code",
      "source": [
        "#Ukr[0]"
      ],
      "metadata": {
        "id": "1PQm65FyY9tt"
      },
      "execution_count": null,
      "outputs": []
    },
    {
      "cell_type": "code",
      "source": [
        "Ukr_df = pd.DataFrame(Ukr)\n",
        "Ukr_df"
      ],
      "metadata": {
        "id": "1U36sJYwZAUc"
      },
      "execution_count": null,
      "outputs": []
    },
    {
      "cell_type": "code",
      "source": [
        "Ukr_df.to_csv(\"/content/gdrive/My Drive/Colab Notebooks/Ukr_twitter.tsv\", sep='\\t')"
      ],
      "metadata": {
        "id": "PCl0UnmSZCTq"
      },
      "execution_count": null,
      "outputs": []
    },
    {
      "cell_type": "markdown",
      "source": [
        "#Rus df"
      ],
      "metadata": {
        "id": "8_Pd4PKkZLRI"
      }
    },
    {
      "cell_type": "code",
      "source": [
        "Rus = Rus_df[['created_at','full_text' ]]\n",
        "Rus = Rus.rename(columns={'created_at': 'date', 'full_text': 'text'} )\n",
        "Rus"
      ],
      "metadata": {
        "id": "pE974R5PZQ4i"
      },
      "execution_count": null,
      "outputs": []
    },
    {
      "cell_type": "code",
      "source": [
        "#Rus.dtypes"
      ],
      "metadata": {
        "id": "0XiuK6GZZTv6"
      },
      "execution_count": null,
      "outputs": []
    },
    {
      "cell_type": "code",
      "source": [
        "Rus['year'] = pd.DatetimeIndex(Rus['date']).year\n",
        "Rus['month'] = pd.DatetimeIndex(Rus['date']).month\n",
        "Rus['day'] = pd.DatetimeIndex(Rus['date']).day\n",
        "Rus"
      ],
      "metadata": {
        "id": "ZspmgFMOZVmW"
      },
      "execution_count": null,
      "outputs": []
    },
    {
      "cell_type": "code",
      "source": [
        "Rus[Rus['year']==2022]['text']"
      ],
      "metadata": {
        "id": "5CzkLNdMZXdB"
      },
      "execution_count": null,
      "outputs": []
    },
    {
      "cell_type": "code",
      "source": [
        "# Ισως καποτε χρειαστεί να αφαιρέσουμε τους τόνους.....\n",
        "text = Rus['text'].str.replace('ά','α').str.replace(\"έ\", \"ε\").str.replace('ή','η').str.replace('ί','ι').str.replace('ό','ο').str.replace('ύ','υ').str.replace('ώ','ω')"
      ],
      "metadata": {
        "id": "Z8De2AbjZZcP"
      },
      "execution_count": null,
      "outputs": []
    },
    {
      "cell_type": "code",
      "source": [
        "text = Rus[Rus['year']==2022]['text'].str.cat(sep = '.').replace(\"amp\", ' ')\n",
        "text"
      ],
      "metadata": {
        "id": "MeoRvlC-ZbPb"
      },
      "execution_count": null,
      "outputs": []
    },
    {
      "cell_type": "code",
      "source": [
        "list(STOPWORDS)[0:20]"
      ],
      "metadata": {
        "id": "nKm1FBVXZdBM"
      },
      "execution_count": null,
      "outputs": []
    },
    {
      "cell_type": "code",
      "source": [
        "nlp = spacy.load('el_core_news_sm')\n",
        "list(nlp.Defaults.stop_words)[0:20]"
      ],
      "metadata": {
        "id": "IC1qrUmxZeug"
      },
      "execution_count": null,
      "outputs": []
    },
    {
      "cell_type": "code",
      "source": [
        "text = Rus['text'].str.cat(sep = '.').replace('.','').strip()\n",
        "text = text.replace('amp','').strip()\n",
        "text = text.replace('rt','').strip()\n",
        "text = text.replace('\\n','').strip()\n",
        "text = text.replace(':','').strip()\n",
        "text"
      ],
      "metadata": {
        "id": "NbQ2mAzOZhS7"
      },
      "execution_count": null,
      "outputs": []
    },
    {
      "cell_type": "code",
      "source": [
        "doc = nlp(Rus['text'][1])"
      ],
      "metadata": {
        "id": "RLTk3_geZjSl"
      },
      "execution_count": null,
      "outputs": []
    },
    {
      "cell_type": "code",
      "source": [
        "for token in doc:\n",
        "    print(token, token.lemma_)"
      ],
      "metadata": {
        "id": "U4UGry3NZlN2"
      },
      "execution_count": null,
      "outputs": []
    },
    {
      "cell_type": "code",
      "source": [
        "' '.join(token.lemma_ for token in doc)"
      ],
      "metadata": {
        "id": "G6pbLLjyZm0M"
      },
      "execution_count": null,
      "outputs": []
    },
    {
      "cell_type": "code",
      "source": [
        "text"
      ],
      "metadata": {
        "id": "eLrDglRfZoxx"
      },
      "execution_count": null,
      "outputs": []
    },
    {
      "cell_type": "code",
      "source": [
        "full_doc = nlp(text)\n",
        "clear_text = ' '.join(token.lemma_ for token in full_doc)\n",
        "clear_text[200:400]"
      ],
      "metadata": {
        "id": "vdXTJ6pFZqXQ"
      },
      "execution_count": null,
      "outputs": []
    },
    {
      "cell_type": "code",
      "source": [
        "wordcloud = WordCloud(\n",
        "    stopwords = nlp.Defaults.stop_words,\n",
        "    width = 2000,\n",
        "    height = 1000,\n",
        "    background_color = 'black'\n",
        " ).generate(clear_text)\n",
        "fig = plt.figure(\n",
        "    figsize = (40, 30),\n",
        "    facecolor = 'k',\n",
        "    edgecolor = 'k')\n",
        "plt.imshow(wordcloud, interpolation = 'bilinear')\n",
        "plt.axis('off')\n",
        "plt.tight_layout(pad=0)\n",
        "plt.show()"
      ],
      "metadata": {
        "id": "x_Wn9HfJZsNJ"
      },
      "execution_count": null,
      "outputs": []
    },
    {
      "cell_type": "code",
      "source": [
        "from collections import Counter\n",
        "Counter(\" \".join(Rus[\"text\"]).split()).most_common(16)"
      ],
      "metadata": {
        "id": "0qTkxmGaZxuM"
      },
      "execution_count": null,
      "outputs": []
    },
    {
      "cell_type": "code",
      "source": [
        "for word in nlp.Defaults.stop_words:\n",
        "  print(word)\n",
        "  break"
      ],
      "metadata": {
        "id": "HWxTupAMZyWf"
      },
      "execution_count": null,
      "outputs": []
    },
    {
      "cell_type": "code",
      "source": [
        "Rus['text_no_stopwords'] = Rus['text'].apply(lambda x: ' '.join([word for word in x.split() if word not in (nlp.Defaults.stop_words) and word != ':' and word != '\\n' and word != \"amp\" and word != 'rt' and word != ',']))\n",
        "Rus['text_no_stopwords'] = Rus['text'].apply(lambda x: ' '.join([word for word in x.split() if word not in (nlp.Defaults.stop_words)]))\n",
        "Rus['clean_text_no_stopwords'] = Rus['text']\n",
        "#for stopword in nlp.Defaults.stop_words:\n",
        "Rus['clean_text_no_stopwords'] = Rus['clean_text_no_stopwords'].apply(lambda x: ' '.join([word for word in x.split() if word not in nlp.Defaults.stop_words and word != \"ή\" and word != \"ία\" and word != \"κι\"]))\n",
        "Rus['clean_text_no_stopwords'] = Rus['clean_text_no_stopwords'].apply(lambda x: x.replace(\"amp\", \"\").strip())\n",
        "Rus['clean_text_no_stopwords'] = Rus['clean_text_no_stopwords'].apply(lambda x: x.replace(\"rt\", \"\").strip())\n",
        "Rus['clean_text_no_stopwords'] = Rus['clean_text_no_stopwords'].apply(lambda x: x.replace(\":\", \"\").strip())\n",
        "Rus['clean_text_no_stopwords'] = Rus['clean_text_no_stopwords'].apply(lambda x: x.replace(\",\", \"\").strip())\n",
        "Rus['clean_text_no_stopwords'] = Rus['clean_text_no_stopwords'].apply(lambda x: x.replace(\"\\n\", \"\").strip())\n",
        "Rus['clean_text_no_stopwords'] = Rus['clean_text_no_stopwords'].apply(lambda x: x.replace(\".\", \"\").strip())"
      ],
      "metadata": {
        "id": "TXgm_gTIavCM"
      },
      "execution_count": null,
      "outputs": []
    },
    {
      "cell_type": "code",
      "source": [
        "freq = Counter(\" \".join(Rus[\"clean_text_no_stopwords\"]).split()).most_common(16)\n",
        "freq"
      ],
      "metadata": {
        "id": "vXiGeiZiZ0fw"
      },
      "execution_count": null,
      "outputs": []
    },
    {
      "cell_type": "code",
      "source": [
        "names, values = zip(*freq)\n",
        "# names = [x[0] for x in data]  # These two lines are equivalent to the the zip-command.\n",
        "# values = [x[1] for x in data] # These two lines are equivalent to the the zip-command.\n",
        "\n",
        "ind = np.arange(len(freq))  # the x locations for the groups\n",
        "width = 0.35       # the width of the bars\n",
        "\n",
        "fig, ax = plt.subplots(figsize=(20,5))\n",
        "rects1 = ax.bar(ind, values, width, color='r')\n",
        "# add some text for labels, title and axes ticks\n",
        "ax.set_ylabel('Count')\n",
        "ax.set_xticks(ind+width/10.)\n",
        "ax.set_xticklabels(names)\n",
        "\n",
        "def autolabel(rects):\n",
        "    # attach some text labels\n",
        "    for rect in rects:\n",
        "        height = rect.get_height()\n",
        "        ax.text(rect.get_x() + rect.get_width()/2, height,\n",
        "                '%d' % int(height),\n",
        "                ha='center', va='bottom')\n",
        "\n",
        "autolabel(rects1)\n",
        "\n",
        "plt.show()"
      ],
      "metadata": {
        "id": "Vkte1Pq4Z5X9"
      },
      "execution_count": null,
      "outputs": []
    },
    {
      "cell_type": "markdown",
      "source": [
        "#Ukr df"
      ],
      "metadata": {
        "id": "VYkZAYQXZ-3B"
      }
    },
    {
      "cell_type": "code",
      "source": [
        "Ukr = Ukr_df[['created_at','full_text' ]]\n",
        "Ukr = Ukr.rename(columns={'created_at': 'date', 'full_text': 'text'} )\n",
        "Ukr"
      ],
      "metadata": {
        "id": "puV8HNHwaBjO"
      },
      "execution_count": null,
      "outputs": []
    },
    {
      "cell_type": "code",
      "source": [
        "#Ukr.dtypes"
      ],
      "metadata": {
        "id": "EIYQc4-waEZS"
      },
      "execution_count": null,
      "outputs": []
    },
    {
      "cell_type": "code",
      "source": [
        "Ukr['year'] = pd.DatetimeIndex(Ukr['date']).year\n",
        "Ukr['month'] = pd.DatetimeIndex(Ukr['date']).month\n",
        "Ukr['day'] = pd.DatetimeIndex(Ukr['date']).day\n",
        "Ukr"
      ],
      "metadata": {
        "id": "6AzIMxajaGSi"
      },
      "execution_count": null,
      "outputs": []
    },
    {
      "cell_type": "code",
      "source": [
        "Ukr[Ukr['year']==2022]['text']"
      ],
      "metadata": {
        "id": "rN0VV_BTaIBH"
      },
      "execution_count": null,
      "outputs": []
    },
    {
      "cell_type": "code",
      "source": [
        "# Ισως καποτε χρειαστεί να αφαιρέσουμε τους τόνους.....\n",
        "text = Ukr['text'].str.replace('ά','α').str.replace(\"έ\", \"ε\").str.replace('ή','η').str.replace('ί','ι').str.replace('ό','ο').str.replace('ύ','υ').str.replace('ώ','ω')"
      ],
      "metadata": {
        "id": "H6r1_c-uaJ4A"
      },
      "execution_count": null,
      "outputs": []
    },
    {
      "cell_type": "code",
      "source": [
        "text = Ukr[Ukr['year']==2022]['text'].str.cat(sep = '.').replace(\"amp\", ' ')\n",
        "text"
      ],
      "metadata": {
        "id": "k_Je64raaL8W"
      },
      "execution_count": null,
      "outputs": []
    },
    {
      "cell_type": "code",
      "source": [
        "list(STOPWORDS)[0:20]"
      ],
      "metadata": {
        "id": "hDCeQHkmaNl3"
      },
      "execution_count": null,
      "outputs": []
    },
    {
      "cell_type": "code",
      "source": [
        "nlp = spacy.load('el_core_news_sm')\n",
        "list(nlp.Defaults.stop_words)[0:20]"
      ],
      "metadata": {
        "id": "NOGrm-l1aPSx"
      },
      "execution_count": null,
      "outputs": []
    },
    {
      "cell_type": "code",
      "source": [
        "text = Ukr['text'].str.cat(sep = '.').replace('.','').strip()\n",
        "text = text.replace('amp','').strip()\n",
        "text = text.replace('rt','').strip()\n",
        "text = text.replace('\\n','').strip()\n",
        "text = text.replace(':','').strip()\n",
        "text"
      ],
      "metadata": {
        "id": "OZ18cPSUaRZa"
      },
      "execution_count": null,
      "outputs": []
    },
    {
      "cell_type": "code",
      "source": [
        "doc = nlp(Ukr['text'][1])"
      ],
      "metadata": {
        "id": "sgQ0f4ZnaTNV"
      },
      "execution_count": null,
      "outputs": []
    },
    {
      "cell_type": "code",
      "source": [
        "for token in doc:\n",
        "    print(token, token.lemma_)"
      ],
      "metadata": {
        "id": "0KWUu87OaU63"
      },
      "execution_count": null,
      "outputs": []
    },
    {
      "cell_type": "code",
      "source": [
        "' '.join(token.lemma_ for token in doc)"
      ],
      "metadata": {
        "id": "MT91nVaLaWjk"
      },
      "execution_count": null,
      "outputs": []
    },
    {
      "cell_type": "code",
      "source": [
        "text"
      ],
      "metadata": {
        "id": "HEdaFbEJaYef"
      },
      "execution_count": null,
      "outputs": []
    },
    {
      "cell_type": "code",
      "source": [
        "full_doc = nlp(text)\n",
        "clear_text = ' '.join(token.lemma_ for token in full_doc)\n",
        "clear_text[200:400]"
      ],
      "metadata": {
        "id": "OuZ66D_GaaKx"
      },
      "execution_count": null,
      "outputs": []
    },
    {
      "cell_type": "code",
      "source": [
        "wordcloud = WordCloud(\n",
        "    stopwords = nlp.Defaults.stop_words,\n",
        "    width = 2000,\n",
        "    height = 1000,\n",
        "    background_color = 'black'\n",
        " ).generate(clear_text)\n",
        "fig = plt.figure(\n",
        "    figsize = (40, 30),\n",
        "    facecolor = 'k',\n",
        "    edgecolor = 'k')\n",
        "plt.imshow(wordcloud, interpolation = 'bilinear')\n",
        "plt.axis('off')\n",
        "plt.tight_layout(pad=0)\n",
        "plt.show()"
      ],
      "metadata": {
        "id": "GG0d-rFeacK0"
      },
      "execution_count": null,
      "outputs": []
    },
    {
      "cell_type": "code",
      "source": [
        "from collections import Counter\n",
        "Counter(\" \".join(Ukr[\"text\"]).split()).most_common(16)"
      ],
      "metadata": {
        "id": "hoXUL6QJad49"
      },
      "execution_count": null,
      "outputs": []
    },
    {
      "cell_type": "code",
      "source": [
        "for word in nlp.Defaults.stop_words:\n",
        "  print(word)\n",
        "  break"
      ],
      "metadata": {
        "id": "PocKNEI6afyN"
      },
      "execution_count": null,
      "outputs": []
    },
    {
      "cell_type": "code",
      "source": [
        "Ukr['text_no_stopwords'] = Ukr['text'].apply(lambda x: ' '.join([word for word in x.split() if word not in (nlp.Defaults.stop_words) and word != ':' and word != '\\n' and word != \"amp\" and word != 'rt' and word != ',']))\n",
        "Ukr['text_no_stopwords'] = Ukr['text'].apply(lambda x: ' '.join([word for word in x.split() if word not in (nlp.Defaults.stop_words)]))\n",
        "Ukr['clean_text_no_stopwords'] = Ukr['text']\n",
        "#for stopword in nlp.Defaults.stop_words:\n",
        "Ukr['clean_text_no_stopwords'] = Ukr['clean_text_no_stopwords'].apply(lambda x: ' '.join([word for word in x.split() if word not in nlp.Defaults.stop_words and word != \"ή\" and word != \"ία\" and word != \"κι\"]))\n",
        "Ukr['clean_text_no_stopwords'] = Ukr['clean_text_no_stopwords'].apply(lambda x: x.replace(\"amp\", \"\").strip())\n",
        "Ukr['clean_text_no_stopwords'] = Ukr['clean_text_no_stopwords'].apply(lambda x: x.replace(\"rt\", \"\").strip())\n",
        "Ukr['clean_text_no_stopwords'] = Ukr['clean_text_no_stopwords'].apply(lambda x: x.replace(\":\", \"\").strip())\n",
        "Ukr['clean_text_no_stopwords'] = Ukr['clean_text_no_stopwords'].apply(lambda x: x.replace(\",\", \"\").strip())\n",
        "Ukr['clean_text_no_stopwords'] = Ukr['clean_text_no_stopwords'].apply(lambda x: x.replace(\"\\n\", \"\").strip())\n",
        "Ukr['clean_text_no_stopwords'] = Ukr['clean_text_no_stopwords'].apply(lambda x: x.replace(\".\", \"\").strip())"
      ],
      "metadata": {
        "id": "JDqu7C5Tahlm"
      },
      "execution_count": null,
      "outputs": []
    },
    {
      "cell_type": "code",
      "source": [
        "freq = Counter(\" \".join(Ukr[\"clean_text_no_stopwords\"]).split()).most_common(16)\n",
        "freq"
      ],
      "metadata": {
        "id": "pFXLxNaqajXT"
      },
      "execution_count": null,
      "outputs": []
    },
    {
      "cell_type": "code",
      "source": [
        "names, values = zip(*freq)\n",
        "# names = [x[0] for x in data]  # These two lines are equivalent to the the zip-command.\n",
        "# values = [x[1] for x in data] # These two lines are equivalent to the the zip-command.\n",
        "\n",
        "ind = np.arange(len(freq))  # the x locations for the groups\n",
        "width = 0.35       # the width of the bars\n",
        "\n",
        "fig, ax = plt.subplots(figsize=(20,5))\n",
        "rects1 = ax.bar(ind, values, width, color='r')\n",
        "# add some text for labels, title and axes ticks\n",
        "ax.set_ylabel('Count')\n",
        "ax.set_xticks(ind+width/10.)\n",
        "ax.set_xticklabels(names)\n",
        "\n",
        "def autolabel(rects):\n",
        "    # attach some text labels\n",
        "    for rect in rects:\n",
        "        height = rect.get_height()\n",
        "        ax.text(rect.get_x() + rect.get_width()/2, height,\n",
        "                '%d' % int(height),\n",
        "                ha='center', va='bottom')\n",
        "\n",
        "autolabel(rects1)\n",
        "\n",
        "plt.show()"
      ],
      "metadata": {
        "id": "iVX78oC9alEI"
      },
      "execution_count": null,
      "outputs": []
    },
    {
      "cell_type": "markdown",
      "source": [
        "# Ru Emolex"
      ],
      "metadata": {
        "id": "dZ86o7uIayd4"
      }
    },
    {
      "cell_type": "code",
      "source": [
        "filepath = \"https://raw.githubusercontent.com/datajour-gr/Data_journalism/master/week10/NRC_GREEK_Translated_6_2020.csv\"\n",
        "emolex_df = pd.read_csv(filepath)\n",
        "emolex_df.head()"
      ],
      "metadata": {
        "id": "L6XRI3Hoa1a7"
      },
      "execution_count": null,
      "outputs": []
    },
    {
      "cell_type": "code",
      "source": [
        "#emolex_df.tail()"
      ],
      "metadata": {
        "id": "Rq8zxrisbB4k"
      },
      "execution_count": null,
      "outputs": []
    },
    {
      "cell_type": "code",
      "source": [
        "emolex_df = emolex_df.drop_duplicates(subset=['word'])\n",
        "emolex_df = emolex_df.dropna()\n",
        "emolex_df.reset_index(drop = True, inplace = True)"
      ],
      "metadata": {
        "id": "u4DKse06bEFw"
      },
      "execution_count": null,
      "outputs": []
    },
    {
      "cell_type": "code",
      "source": [
        "import spacy\n",
        "nlp = spacy.load('el_core_news_sm')"
      ],
      "metadata": {
        "id": "yQggCEL6bF1v"
      },
      "execution_count": null,
      "outputs": []
    },
    {
      "cell_type": "code",
      "source": [
        "Rus_tweets_df = pd.read_csv(\"/content/gdrive/My Drive/Colab Notebooks/Rus.tsv\", sep='\\t')"
      ],
      "metadata": {
        "id": "Vdd2Ai9QbHvc"
      },
      "execution_count": null,
      "outputs": []
    },
    {
      "cell_type": "code",
      "source": [
        "len(Rus_tweets_df)"
      ],
      "metadata": {
        "id": "phm5Q6inbKjM"
      },
      "execution_count": null,
      "outputs": []
    },
    {
      "cell_type": "code",
      "source": [
        "short_tweets_Rus = Rus_tweets_df[['created_at','full_text' ]]\n",
        "short_tweets_Rus = short_tweets_Rus.rename(columns={'created_at': 'date', 'full_text': 'text'} )\n",
        "short_tweets_Rus.tail()"
      ],
      "metadata": {
        "id": "AjxsVMe7bMPZ"
      },
      "execution_count": null,
      "outputs": []
    },
    {
      "cell_type": "code",
      "source": [
        "#short_tweets_Rus.dtypes"
      ],
      "metadata": {
        "id": "1vej8BuDbN99"
      },
      "execution_count": null,
      "outputs": []
    },
    {
      "cell_type": "code",
      "source": [
        "short_tweets_Rus['date'] = pd.to_datetime(short_tweets_Rus['date'], format='%a %b %d %H:%M:%S +0000 %Y')"
      ],
      "metadata": {
        "id": "D8sPUi5UbQE5"
      },
      "execution_count": null,
      "outputs": []
    },
    {
      "cell_type": "code",
      "source": [
        "short_tweets_Rus['year'] = pd.DatetimeIndex(short_tweets_Rus['date']).year\n",
        "short_tweets_Rus['month'] = pd.DatetimeIndex(short_tweets_Rus['date']).month\n",
        "short_tweets_Rus['day'] = pd.DatetimeIndex(short_tweets_Rus['date']).day\n",
        "short_tweets_Rus"
      ],
      "metadata": {
        "id": "pjJMdMF-bRnh"
      },
      "execution_count": null,
      "outputs": []
    },
    {
      "cell_type": "code",
      "source": [
        "#short_tweets_Rus.dtypes"
      ],
      "metadata": {
        "id": "DLxZ_zunbTSV"
      },
      "execution_count": null,
      "outputs": []
    },
    {
      "cell_type": "code",
      "source": [
        "emolex_df['word'].head(3)"
      ],
      "metadata": {
        "id": "qfDQOb3pbVEn"
      },
      "execution_count": null,
      "outputs": []
    },
    {
      "cell_type": "code",
      "source": [
        "short_tweets_Rus['text'] = short_tweets_Rus['text'].str.replace(r'https?:\\/\\/.*[\\r\\n]*',\" \")"
      ],
      "metadata": {
        "id": "sY05kSpqbWsr"
      },
      "execution_count": null,
      "outputs": []
    },
    {
      "cell_type": "code",
      "source": [
        "#short_tweets_Rus.head()"
      ],
      "metadata": {
        "id": "CFV5Li4sbYWO"
      },
      "execution_count": null,
      "outputs": []
    },
    {
      "cell_type": "code",
      "source": [
        "vec = CountVectorizer(analyzer = 'word', vocabulary = emolex_df.word, \n",
        "                      strip_accents = 'unicode',  \n",
        "                      stop_words= nlp.Defaults.stop_words,\n",
        "                      ngram_range=(1, 2))"
      ],
      "metadata": {
        "id": "KzsSyivdbaEf"
      },
      "execution_count": null,
      "outputs": []
    },
    {
      "cell_type": "code",
      "source": [
        "#from sklearn.feature_extraction.text import TfidfVectorizer\n",
        "#CountVectorizer(stop_words='english', binary=True)\n",
        "# Θέλω να ελέγξω μόνο τις λέξεις που υπάρχουν στο συναισθηματικό λεξικό\n",
        "\n",
        "#CountVectorizer(analyzer = 'word', \n",
        "#              strip_accents = 'unicode', \n",
        "#               token_pattern='[Α-Ωα-ωΆ-Ώά-ώ]{2,}', \n",
        "#               stop_words= lc_stop_words_df['stop_w'].tolist())\n",
        "\n",
        "\n",
        "matrix = vec.fit_transform(short_tweets_Rus['text'])\n",
        "vocab = vec.get_feature_names()\n",
        "wordcount_df = pd.DataFrame(matrix.toarray(), columns=vocab)\n",
        "wordcount_df.head()"
      ],
      "metadata": {
        "id": "LRZY4uuXbbrQ"
      },
      "execution_count": null,
      "outputs": []
    },
    {
      "cell_type": "code",
      "source": [
        "wordcount_df.shape"
      ],
      "metadata": {
        "id": "OM7XVfCabdO-"
      },
      "execution_count": null,
      "outputs": []
    },
    {
      "cell_type": "code",
      "source": [
        "#emolex_df.head()"
      ],
      "metadata": {
        "id": "qZUmlgKrbfFR"
      },
      "execution_count": null,
      "outputs": []
    },
    {
      "cell_type": "code",
      "source": [
        "#emolex_df[emolex_df.Anger == 1].tail()"
      ],
      "metadata": {
        "id": "uplIT4rPbg1X"
      },
      "execution_count": null,
      "outputs": []
    },
    {
      "cell_type": "code",
      "source": [
        "# Φτιάξε μια λίστα με positive words\n",
        "\n",
        "angry_words = emolex_df[emolex_df.Anger == 1]['word']\n",
        "\n",
        "positive_words = emolex_df[emolex_df.Positive == 1]['word']\n",
        "\n",
        "\n",
        "# Φτιάξε μια λίστα με sadness words\n",
        "sadness_words = emolex_df[emolex_df.Sadness == 1]['word']\n",
        "\n",
        "\n",
        "# Φτιάξε μια λίστα με surprise words\n",
        "surprise_words = emolex_df[emolex_df.Surprise == 1]['word']\n",
        "\n",
        "\n",
        "# Φτιάξε μια λίστα με disgust words\n",
        "disgust_words = emolex_df[emolex_df.Disgust == 1]['word']\n",
        "\n",
        "\n",
        "# Φτιάξε μια λίστα με anticipation words\n",
        "anticipation_words = emolex_df[emolex_df.Anticipation == 1]['word']\n",
        "\n",
        "\n",
        "# Φτιάξε μια λίστα με negative words\n",
        "negative_words = emolex_df[emolex_df.Negative == 1]['word']\n",
        "\n",
        "\n",
        "\n",
        "# Φτιάξε μια λίστα με joy words\n",
        "joy_words = emolex_df[emolex_df.Joy == 1]['word']\n",
        "\n",
        "\n",
        "# Φτιάξε μια λίστα με trust words\n",
        "trust_words = emolex_df[emolex_df.Trust == 1]['word']\n",
        "\n",
        "\n",
        "\n",
        "# Φτιάξε μια λίστα με fear words\n",
        "fear_words = emolex_df[emolex_df.Fear == 1]['word']\n"
      ],
      "metadata": {
        "id": "fsT9-Lt7bi-1"
      },
      "execution_count": null,
      "outputs": []
    },
    {
      "cell_type": "code",
      "source": [
        "#short_tweets_Rus.head(3)"
      ],
      "metadata": {
        "id": "sgiO0FnDblQC"
      },
      "execution_count": null,
      "outputs": []
    },
    {
      "cell_type": "code",
      "source": [
        "short_tweets_Rus['anger'] = wordcount_df[angry_words].sum(axis=1)\n",
        "\n",
        "short_tweets_Rus['positivity'] = wordcount_df[positive_words].sum(axis=1)\n",
        "\n",
        "\n",
        "short_tweets_Rus['joy'] = wordcount_df[joy_words].sum(axis=1)\n",
        "\n",
        "\n",
        "short_tweets_Rus['disgust'] = wordcount_df[disgust_words].sum(axis=1)\n",
        "\n",
        "\n",
        "short_tweets_Rus['surprise'] = wordcount_df[surprise_words].sum(axis=1)\n",
        "\n",
        "short_tweets_Rus['trust'] = wordcount_df[trust_words].sum(axis=1)\n",
        "\n",
        "\n",
        "short_tweets_Rus['anticipation'] = wordcount_df[anticipation_words].sum(axis=1)\n",
        "\n",
        "\n",
        "short_tweets_Rus['sadness'] = wordcount_df[sadness_words].sum(axis=1)\n",
        "\n",
        "short_tweets_Rus['negative'] = wordcount_df[negative_words].sum(axis=1)\n",
        "\n",
        "short_tweets_Rus['fear'] = wordcount_df[fear_words].sum(axis=1)"
      ],
      "metadata": {
        "id": "VvCyPjbSbnKM"
      },
      "execution_count": null,
      "outputs": []
    },
    {
      "cell_type": "code",
      "source": [
        "short_tweets_Rus"
      ],
      "metadata": {
        "id": "ZLk8FMCLbsPt"
      },
      "execution_count": null,
      "outputs": []
    },
    {
      "cell_type": "code",
      "source": [
        "max = 0\n",
        "happiest_tweet = \"\"\n",
        "for i in range(0,len(short_tweets_Rus)):\n",
        "  #print(short_tweets_Rus.iloc[i]['positivity'])\n",
        "  if short_tweets_Rus.iloc[i]['positivity'] > max:\n",
        "    happiest_tweet = short_tweets_Rus.iloc[i]['text']\n",
        "    max = short_tweets_Rus.iloc[i]['positivity']\n",
        "\n",
        "\n",
        "happiest_tweet"
      ],
      "metadata": {
        "id": "UQwljY53bs3M"
      },
      "execution_count": null,
      "outputs": []
    },
    {
      "cell_type": "code",
      "source": [
        "max = 0\n",
        "negative_tweet = \"\"\n",
        "for i in range(0,len(short_tweets_Rus)):\n",
        "  #print(short_tweets_Rus.iloc[i]['positivity'])\n",
        "  if short_tweets_Rus.iloc[i]['negative'] > max:\n",
        "    negative_tweet = short_tweets_Rus.iloc[i]['text']\n",
        "    max = short_tweets_Rus.iloc[i]['negative']\n",
        "\n",
        "\n",
        "negative_tweet"
      ],
      "metadata": {
        "id": "kmxgE2Xibu6W"
      },
      "execution_count": null,
      "outputs": []
    },
    {
      "cell_type": "code",
      "source": [
        "max = 0\n",
        "saddest_tweet = \"\"\n",
        "for i in range(0,len(short_tweets_Rus)):\n",
        "  #print(short_tweets_Rus.iloc[i]['positivity'])\n",
        "  if short_tweets_Rus.iloc[i]['sadness'] > max:\n",
        "    saddest_tweet = short_tweets_Rus.iloc[i]['text']\n",
        "    max = short_tweets_Rus.iloc[i]['sadness']\n",
        "\n",
        "saddest_tweet"
      ],
      "metadata": {
        "id": "hTnFIyUybx9w"
      },
      "execution_count": null,
      "outputs": []
    },
    {
      "cell_type": "code",
      "source": [
        "max = 0\n",
        "fear_tweet = \"\"\n",
        "for i in range(0,len(short_tweets_Rus)):\n",
        "  #print(short_tweets_Rus.iloc[i]['positivity'])\n",
        "  if short_tweets_Rus.iloc[i]['fear'] > max:\n",
        "    fear_tweet = short_tweets_Rus.iloc[i]['text']\n",
        "    max = short_tweets_Rus.iloc[i]['fear']\n",
        "\n",
        "fear_tweet"
      ],
      "metadata": {
        "id": "6YDL4b66byZm"
      },
      "execution_count": null,
      "outputs": []
    },
    {
      "cell_type": "code",
      "source": [
        "max = 0\n",
        "trust_tweet = \"\"\n",
        "for i in range(0,len(short_tweets_Rus)):\n",
        "  #print(short_tweets_Rus.iloc[i]['positivity'])\n",
        "  if short_tweets_Rus.iloc[i]['trust'] > max:\n",
        "    trust_tweet = short_tweets_Rus.iloc[i]['text']\n",
        "    max = short_tweets_Rus.iloc[i]['trust']\n",
        "\n",
        "trust_tweet"
      ],
      "metadata": {
        "id": "l_COVCw5b0EW"
      },
      "execution_count": null,
      "outputs": []
    },
    {
      "cell_type": "code",
      "source": [
        "short_tweets_Rus.set_index('date' , inplace=True)"
      ],
      "metadata": {
        "id": "4KDI_X06b15B"
      },
      "execution_count": null,
      "outputs": []
    },
    {
      "cell_type": "code",
      "source": [
        "short_tweets_Rus['text'].str.len().groupby(by=short_tweets_Rus.index.month).mean().plot()"
      ],
      "metadata": {
        "id": "FE7cB1Kgb3aC"
      },
      "execution_count": null,
      "outputs": []
    },
    {
      "cell_type": "code",
      "source": [
        "short_tweets_Rus['text'].str.len().resample('A').mean().plot() "
      ],
      "metadata": {
        "id": "MftEasj4b46V"
      },
      "execution_count": null,
      "outputs": []
    },
    {
      "cell_type": "code",
      "source": [
        "short_tweets_Rus['positivity'].resample('A').sum().plot(color = 'b',label = 'pos').legend() \n",
        "short_tweets_Rus['negative'].resample('A').sum().plot(color = 'r',label = 'neg').legend() "
      ],
      "metadata": {
        "id": "U1sCxGtbb6fy"
      },
      "execution_count": null,
      "outputs": []
    },
    {
      "cell_type": "code",
      "source": [
        "short_tweets_Rus['anger'].resample('M').sum().plot(figsize=(16,4))"
      ],
      "metadata": {
        "id": "usolRMbCb8R5"
      },
      "execution_count": null,
      "outputs": []
    },
    {
      "cell_type": "code",
      "source": [
        "ax = short_tweets_Rus['positivity'].resample('M').sum().plot(figsize=(16,4), color = 'red')\n",
        "short_tweets_Rus['negative'].resample('M').sum().plot(figsize=(16,4), ax = ax, color = 'green')\n",
        "short_tweets_Rus['trust'].resample('M').sum().plot(figsize=(16,4), ax = ax, color = 'blue')"
      ],
      "metadata": {
        "id": "sUJk_hE9b9-D"
      },
      "execution_count": null,
      "outputs": []
    },
    {
      "cell_type": "code",
      "source": [
        "ax = short_tweets_Rus['positivity'].resample('M').mean().plot(figsize=(16,4), \n",
        "                                                          color = 'g', label='pos')\n",
        "short_tweets_Rus['negative'].resample('M').mean().plot(figsize=(16,4), ax = ax, \n",
        "                                                   label = 'neg', color = 'r')\n",
        "short_tweets_Rus['trust'].resample('M').mean().plot(figsize=(16,4), ax = ax, \n",
        "                                                label = 'trust',color = 'blue').legend()"
      ],
      "metadata": {
        "id": "2n_-UhXfb_kH"
      },
      "execution_count": null,
      "outputs": []
    },
    {
      "cell_type": "code",
      "source": [
        "plt.style.use('ggplot')\n",
        "ax = short_tweets_Rus['positivity'].resample('M').mean().plot(figsize=(16,4), \n",
        "                                                          color = 'g', label='pos')\n",
        "short_tweets_Rus['negative'].resample('M').mean().plot(figsize=(16,4), ax = ax, \n",
        "                                                   label = 'neg', color = 'r')\n",
        "short_tweets_Rus['trust'].resample('M').mean().plot(figsize=(16,4), ax = ax, \n",
        "                                                label = 'trust',color = 'blue').legend()\n",
        "\n",
        "short_tweets_Rus['disgust'].resample('M').mean().plot(figsize=(16,4), ax = ax, \n",
        "                                                label = 'disg',color = 'black').legend() \n",
        "\n",
        "short_tweets_Rus['anger'].resample('M').mean().plot(figsize=(16,4), ax = ax, \n",
        "                                                label = 'anger',color = 'purple').legend() \n",
        "\n",
        "short_tweets_Rus['fear'].resample('M').mean().plot(figsize=(16,4), ax = ax, \n",
        "                                                label = 'fear',color = 'brown').legend()    "
      ],
      "metadata": {
        "id": "MkfloTbicBJO"
      },
      "execution_count": null,
      "outputs": []
    },
    {
      "cell_type": "code",
      "source": [
        "short_tweets_Rus['text'].groupby(by=short_tweets_Rus.index.year).count().plot(kind='barh')\n",
        "plt.title(\"Posts per year\")\n",
        "plt.xlabel(\"Number of posts\")\n",
        "plt.ylabel(\"Years\")"
      ],
      "metadata": {
        "id": "cdk75rf-cCvG"
      },
      "execution_count": null,
      "outputs": []
    },
    {
      "cell_type": "code",
      "source": [
        "short_tweets_Rus['text'].groupby(by=short_tweets_Rus.index.month).count().plot(kind='barh')\n",
        "plt.title(\"Posts per month\")\n",
        "plt.xlabel(\"Number of posts\")\n",
        "plt.ylabel(\"Month of the year\")"
      ],
      "metadata": {
        "id": "EFgot3fJcEXt"
      },
      "execution_count": null,
      "outputs": []
    },
    {
      "cell_type": "code",
      "source": [
        "short_tweets_Rus['text'].groupby(by=short_tweets_Rus.index.hour).count().plot(kind='barh')\n",
        "plt.title(\"Posts per hour\")\n",
        "plt.xlabel(\"Number of posts\")\n",
        "plt.ylabel(\"Hour of the day\")"
      ],
      "metadata": {
        "id": "c0NaSIipcHLp"
      },
      "execution_count": null,
      "outputs": []
    },
    {
      "cell_type": "markdown",
      "source": [
        "# Ukr Emolex"
      ],
      "metadata": {
        "id": "Xot2T4FEcK_0"
      }
    },
    {
      "cell_type": "code",
      "source": [
        "filepath = \"https://raw.githubusercontent.com/datajour-gr/Data_journalism/master/week10/NRC_GREEK_Translated_6_2020.csv\"\n",
        "emolex_df = pd.read_csv(filepath)\n",
        "emolex_df.head()"
      ],
      "metadata": {
        "id": "DbwX1mZbcOKF"
      },
      "execution_count": null,
      "outputs": []
    },
    {
      "cell_type": "code",
      "source": [
        "#emolex_df.tail()"
      ],
      "metadata": {
        "id": "B6mEYoiucbNd"
      },
      "execution_count": null,
      "outputs": []
    },
    {
      "cell_type": "code",
      "source": [
        "emolex_df = emolex_df.drop_duplicates(subset=['word'])\n",
        "emolex_df = emolex_df.dropna()\n",
        "emolex_df.reset_index(drop = True, inplace = True)"
      ],
      "metadata": {
        "id": "6pkRSgAjcdCl"
      },
      "execution_count": null,
      "outputs": []
    },
    {
      "cell_type": "code",
      "source": [
        "#emolex_df.tail()"
      ],
      "metadata": {
        "id": "K7_Bdizqce29"
      },
      "execution_count": null,
      "outputs": []
    },
    {
      "cell_type": "code",
      "source": [
        "import spacy\n",
        "nlp = spacy.load('el_core_news_sm')"
      ],
      "metadata": {
        "id": "3boOZOLGcgF4"
      },
      "execution_count": null,
      "outputs": []
    },
    {
      "cell_type": "code",
      "source": [
        "len(Ukr)"
      ],
      "metadata": {
        "id": "btBNet1zchsQ"
      },
      "execution_count": null,
      "outputs": []
    },
    {
      "cell_type": "code",
      "source": [
        "short_tweets_Ukr = Ukr[['date','text' ]]\n",
        "\n",
        "short_tweets_Ukr"
      ],
      "metadata": {
        "id": "C0spNCt4cjOH"
      },
      "execution_count": null,
      "outputs": []
    },
    {
      "cell_type": "code",
      "source": [
        "#short_tweets_Ukr.tail()"
      ],
      "metadata": {
        "id": "FzB5BxyWcknn"
      },
      "execution_count": null,
      "outputs": []
    },
    {
      "cell_type": "code",
      "source": [
        "#short_tweets_Ukr.dtypes"
      ],
      "metadata": {
        "id": "R9DPeSN_cmBS"
      },
      "execution_count": null,
      "outputs": []
    },
    {
      "cell_type": "code",
      "source": [
        "short_tweets_Ukr['date'] = pd.to_datetime(short_tweets_Ukr['date'], format='%a %b %d %H:%M:%S +0000 %Y')"
      ],
      "metadata": {
        "id": "LefBDJqRcnMq"
      },
      "execution_count": null,
      "outputs": []
    },
    {
      "cell_type": "code",
      "source": [
        "short_tweets_Ukr['year'] = pd.DatetimeIndex(short_tweets_Ukr['date']).year\n",
        "short_tweets_Ukr['month'] = pd.DatetimeIndex(short_tweets_Ukr['date']).month\n",
        "short_tweets_Ukr['day'] = pd.DatetimeIndex(short_tweets_Ukr['date']).day\n",
        "short_tweets_Ukr"
      ],
      "metadata": {
        "id": "ngIPM3V3cojy"
      },
      "execution_count": null,
      "outputs": []
    },
    {
      "cell_type": "code",
      "source": [
        "#short_tweets_Ukr.dtypes"
      ],
      "metadata": {
        "id": "cnH-uJX6cqCk"
      },
      "execution_count": null,
      "outputs": []
    },
    {
      "cell_type": "code",
      "source": [
        "emolex_df['word'].head(3)"
      ],
      "metadata": {
        "id": "Ou6yYdlLcsGm"
      },
      "execution_count": null,
      "outputs": []
    },
    {
      "cell_type": "code",
      "source": [
        "short_tweets_Ukr['text'] = short_tweets_Ukr['text'].str.replace(r'https?:\\/\\/.*[\\r\\n]*',\" \")"
      ],
      "metadata": {
        "id": "TmyhIOPictji"
      },
      "execution_count": null,
      "outputs": []
    },
    {
      "cell_type": "code",
      "source": [
        "#short_tweets_Ukr.head()"
      ],
      "metadata": {
        "id": "zY8nmZRucu8j"
      },
      "execution_count": null,
      "outputs": []
    },
    {
      "cell_type": "code",
      "source": [
        "vec = CountVectorizer(analyzer = 'word', vocabulary = emolex_df.word, \n",
        "                      strip_accents = 'unicode',  \n",
        "                      stop_words= nlp.Defaults.stop_words,\n",
        "                      ngram_range=(1, 2))"
      ],
      "metadata": {
        "id": "_FdwyqY1cwNO"
      },
      "execution_count": null,
      "outputs": []
    },
    {
      "cell_type": "code",
      "source": [
        "#from sklearn.feature_extraction.text import TfidfVectorizer\n",
        "#CountVectorizer(stop_words='english', binary=True)\n",
        "# Θέλω να ελέγξω μόνο τις λέξεις που υπάρχουν στο συναισθηματικό λεξικό\n",
        "\n",
        "#CountVectorizer(analyzer = 'word', \n",
        "#              strip_accents = 'unicode', \n",
        "#               token_pattern='[Α-Ωα-ωΆ-Ώά-ώ]{2,}', \n",
        "#               stop_words= lc_stop_words_df['stop_w'].tolist())\n",
        "\n",
        "\n",
        "matrix = vec.fit_transform(short_tweets_Ukr['text'])\n",
        "vocab = vec.get_feature_names()\n",
        "wordcount_df = pd.DataFrame(matrix.toarray(), columns=vocab)\n",
        "wordcount_df.head()"
      ],
      "metadata": {
        "id": "7cAMnezlcxdk"
      },
      "execution_count": null,
      "outputs": []
    },
    {
      "cell_type": "code",
      "source": [
        "wordcount_df.shape"
      ],
      "metadata": {
        "id": "5mFTD6rEc0zd"
      },
      "execution_count": null,
      "outputs": []
    },
    {
      "cell_type": "code",
      "source": [
        "#emolex_df.head()"
      ],
      "metadata": {
        "id": "UdoYGDoec2ZJ"
      },
      "execution_count": null,
      "outputs": []
    },
    {
      "cell_type": "code",
      "source": [
        "#emolex_df[emolex_df.Anger == 1].tail()"
      ],
      "metadata": {
        "id": "Mvhhwz2hc34W"
      },
      "execution_count": null,
      "outputs": []
    },
    {
      "cell_type": "code",
      "source": [
        "# Φτιάξε μια λίστα με positive words\n",
        "\n",
        "angry_words = emolex_df[emolex_df.Anger == 1]['word']\n",
        "\n",
        "positive_words = emolex_df[emolex_df.Positive == 1]['word']\n",
        "\n",
        "\n",
        "# Φτιάξε μια λίστα με sadness words\n",
        "sadness_words = emolex_df[emolex_df.Sadness == 1]['word']\n",
        "\n",
        "\n",
        "# Φτιάξε μια λίστα με surprise words\n",
        "surprise_words = emolex_df[emolex_df.Surprise == 1]['word']\n",
        "\n",
        "\n",
        "# Φτιάξε μια λίστα με disgust words\n",
        "disgust_words = emolex_df[emolex_df.Disgust == 1]['word']\n",
        "\n",
        "\n",
        "# Φτιάξε μια λίστα με anticipation words\n",
        "anticipation_words = emolex_df[emolex_df.Anticipation == 1]['word']\n",
        "\n",
        "\n",
        "# Φτιάξε μια λίστα με negative words\n",
        "negative_words = emolex_df[emolex_df.Negative == 1]['word']\n",
        "\n",
        "\n",
        "\n",
        "# Φτιάξε μια λίστα με joy words\n",
        "joy_words = emolex_df[emolex_df.Joy == 1]['word']\n",
        "\n",
        "\n",
        "# Φτιάξε μια λίστα με trust words\n",
        "trust_words = emolex_df[emolex_df.Trust == 1]['word']\n",
        "\n",
        "\n",
        "\n",
        "# Φτιάξε μια λίστα με fear words\n",
        "fear_words = emolex_df[emolex_df.Fear == 1]['word']\n"
      ],
      "metadata": {
        "id": "h7fmh2rRc5a8"
      },
      "execution_count": null,
      "outputs": []
    },
    {
      "cell_type": "code",
      "source": [
        "#short_tweets_Ukr.head(3)"
      ],
      "metadata": {
        "id": "0Bi76fPmc8AV"
      },
      "execution_count": null,
      "outputs": []
    },
    {
      "cell_type": "code",
      "source": [
        "short_tweets_Ukr['anger'] = wordcount_df[angry_words].sum(axis=1)\n",
        "\n",
        "short_tweets_Ukr['positivity'] = wordcount_df[positive_words].sum(axis=1)\n",
        "\n",
        "\n",
        "short_tweets_Ukr['joy'] = wordcount_df[joy_words].sum(axis=1)\n",
        "\n",
        "\n",
        "short_tweets_Ukr['disgust'] = wordcount_df[disgust_words].sum(axis=1)\n",
        "\n",
        "\n",
        "short_tweets_Ukr['surprise'] = wordcount_df[surprise_words].sum(axis=1)\n",
        "\n",
        "short_tweets_Ukr['trust'] = wordcount_df[trust_words].sum(axis=1)\n",
        "\n",
        "\n",
        "short_tweets_Ukr['anticipation'] = wordcount_df[anticipation_words].sum(axis=1)\n",
        "\n",
        "\n",
        "short_tweets_Ukr['sadness'] = wordcount_df[sadness_words].sum(axis=1)\n",
        "\n",
        "short_tweets_Ukr['negative'] = wordcount_df[negative_words].sum(axis=1)\n",
        "\n",
        "short_tweets_Ukr['fear'] = wordcount_df[fear_words].sum(axis=1)\n"
      ],
      "metadata": {
        "id": "6TflTSEpc9s0"
      },
      "execution_count": null,
      "outputs": []
    },
    {
      "cell_type": "code",
      "source": [
        "short_tweets_Ukr"
      ],
      "metadata": {
        "id": "FZjHIKJcc_Ey"
      },
      "execution_count": null,
      "outputs": []
    },
    {
      "cell_type": "code",
      "source": [
        "max = 0\n",
        "happiest_tweet = \"\"\n",
        "for i in range(0,len(short_tweets_Ukr)):\n",
        "  #print(short_tweets_Rus.iloc[i]['positivity'])\n",
        "  if short_tweets_Ukr.iloc[i]['positivity'] > max:\n",
        "    happiest_tweet = short_tweets_Ukr.iloc[i]['text']\n",
        "    max = short_tweets_Ukr.iloc[i]['positivity']\n",
        "\n",
        "\n",
        "happiest_tweet"
      ],
      "metadata": {
        "id": "Zhx8GYUAdAkC"
      },
      "execution_count": null,
      "outputs": []
    },
    {
      "cell_type": "code",
      "source": [
        "max = 0\n",
        "negative_tweet = \"\"\n",
        "for i in range(0,len(short_tweets_Ukr)):\n",
        "  #print(short_tweets_Ukr.iloc[i]['positivity'])\n",
        "  if short_tweets_Ukr.iloc[i]['negative'] > max:\n",
        "    negative_tweet = short_tweets_Ukr.iloc[i]['text']\n",
        "    max = short_tweets_Ukr.iloc[i]['negative']\n",
        "\n",
        "\n",
        "negative_tweet"
      ],
      "metadata": {
        "id": "yoL40ac3dB_1"
      },
      "execution_count": null,
      "outputs": []
    },
    {
      "cell_type": "code",
      "source": [
        "max = 0\n",
        "saddest_tweet = \"\"\n",
        "for i in range(0,len(short_tweets_Ukr)):\n",
        "  #print(short_tweets_Ukr.iloc[i]['positivity'])\n",
        "  if short_tweets_Ukr.iloc[i]['sadness'] > max:\n",
        "    saddest_tweet = short_tweets_Ukr.iloc[i]['text']\n",
        "    max = short_tweets_Ukr.iloc[i]['sadness']\n",
        "\n",
        "saddest_tweet"
      ],
      "metadata": {
        "id": "dRgpbdXNdDew"
      },
      "execution_count": null,
      "outputs": []
    },
    {
      "cell_type": "code",
      "source": [
        "max = 0\n",
        "fear_tweet = \"\"\n",
        "for i in range(0,len(short_tweets_Ukr)):\n",
        "  #print(short_tweets_Ukr.iloc[i]['positivity'])\n",
        "  if short_tweets_Ukr.iloc[i]['fear'] > max:\n",
        "    fear_tweet = short_tweets_Ukr.iloc[i]['text']\n",
        "    max = short_tweets_Ukr.iloc[i]['fear']\n",
        "\n",
        "fear_tweet"
      ],
      "metadata": {
        "id": "Nogft8wKdE3L"
      },
      "execution_count": null,
      "outputs": []
    },
    {
      "cell_type": "code",
      "source": [
        "max = 0\n",
        "trust_tweet = \"\"\n",
        "for i in range(0,len(short_tweets_Ukr)):\n",
        "  #print(short_tweets_Ukr.iloc[i]['positivity'])\n",
        "  if short_tweets_Ukr.iloc[i]['trust'] > max:\n",
        "    trust_tweet = short_tweets_Ukr.iloc[i]['text']\n",
        "    max = short_tweets_Ukr.iloc[i]['trust']\n",
        "\n",
        "trust_tweet"
      ],
      "metadata": {
        "id": "GDwKh5RPdGr3"
      },
      "execution_count": null,
      "outputs": []
    },
    {
      "cell_type": "code",
      "source": [
        "short_tweets_Ukr.set_index('date' , inplace=True)"
      ],
      "metadata": {
        "id": "2eCDLQdNdIEU"
      },
      "execution_count": null,
      "outputs": []
    },
    {
      "cell_type": "code",
      "source": [
        "short_tweets_Ukr['text'].str.len().groupby(by=short_tweets_Ukr.index.month).mean().plot()"
      ],
      "metadata": {
        "id": "s21D71M5dJl0"
      },
      "execution_count": null,
      "outputs": []
    },
    {
      "cell_type": "code",
      "source": [
        "short_tweets_Ukr['negative'].resample('A').sum().plot(color = 'r',label = 'neg').legend() \n",
        "short_tweets_Ukr['positivity'].resample('A').sum().plot(color = 'b',label = 'pos').legend() "
      ],
      "metadata": {
        "id": "x45oVWbqdK3R"
      },
      "execution_count": null,
      "outputs": []
    },
    {
      "cell_type": "code",
      "source": [
        "short_tweets_Ukr['anger'].resample('M').sum().plot(figsize=(16,4))"
      ],
      "metadata": {
        "id": "pQsuyOzPdMY5"
      },
      "execution_count": null,
      "outputs": []
    },
    {
      "cell_type": "code",
      "source": [
        "ax = short_tweets_Ukr['positivity'].resample('M').sum().plot(figsize=(16,4), color = 'red')\n",
        "short_tweets_Ukr['negative'].resample('M').sum().plot(figsize=(16,4), ax = ax, color = 'green')\n",
        "short_tweets_Ukr['trust'].resample('M').sum().plot(figsize=(16,4), ax = ax, color = 'blue')"
      ],
      "metadata": {
        "id": "_-zUdj9adN89"
      },
      "execution_count": null,
      "outputs": []
    },
    {
      "cell_type": "code",
      "source": [
        "ax = short_tweets_Ukr['positivity'].resample('M').mean().plot(figsize=(16,4), \n",
        "                                                          color = 'g', label='pos')\n",
        "short_tweets_Ukr['negative'].resample('M').mean().plot(figsize=(16,4), ax = ax, \n",
        "                                                   label = 'neg', color = 'r')\n",
        "short_tweets_Ukr['trust'].resample('M').mean().plot(figsize=(16,4), ax = ax, \n",
        "                                                label = 'trust',color = 'blue').legend()"
      ],
      "metadata": {
        "id": "tSyUdJYjdP3p"
      },
      "execution_count": null,
      "outputs": []
    },
    {
      "cell_type": "code",
      "source": [
        "plt.style.use('ggplot')\n",
        "ax = short_tweets_Ukr['positivity'].resample('M').mean().plot(figsize=(16,4), \n",
        "                                                          color = 'g', label='pos')\n",
        "short_tweets_Ukr['negative'].resample('M').mean().plot(figsize=(16,4), ax = ax, \n",
        "                                                   label = 'neg', color = 'r')\n",
        "short_tweets_Ukr['trust'].resample('M').mean().plot(figsize=(16,4), ax = ax, \n",
        "                                                label = 'trust',color = 'blue').legend()\n",
        "\n",
        "short_tweets_Ukr['disgust'].resample('M').mean().plot(figsize=(16,4), ax = ax, \n",
        "                                                label = 'disg',color = 'black').legend() \n",
        "\n",
        "short_tweets_Ukr['anger'].resample('M').mean().plot(figsize=(16,4), ax = ax, \n",
        "                                                label = 'anger',color = 'purple').legend() \n",
        "\n",
        "short_tweets_Ukr['fear'].resample('M').mean().plot(figsize=(16,4), ax = ax, \n",
        "                                                label = 'fear',color = 'brown').legend()    "
      ],
      "metadata": {
        "id": "0Ca7GI1UdRim"
      },
      "execution_count": null,
      "outputs": []
    },
    {
      "cell_type": "code",
      "source": [
        "short_tweets_Ukr['text'].groupby(by=short_tweets_Ukr.index.year).count().plot(kind='barh')\n",
        "plt.title(\"Posts per year\")\n",
        "plt.xlabel(\"Number of posts\")\n",
        "plt.ylabel(\"Years\")"
      ],
      "metadata": {
        "id": "Q1JUZwkEdTIG"
      },
      "execution_count": null,
      "outputs": []
    },
    {
      "cell_type": "code",
      "source": [
        "short_tweets_Ukr['text'].groupby(by=short_tweets_Ukr.index.month).count().plot(kind='barh')\n",
        "plt.title(\"Posts per month\")\n",
        "plt.xlabel(\"Number of posts\")\n",
        "plt.ylabel(\"Month of the year\")"
      ],
      "metadata": {
        "id": "Dqd4r3lOdUxS"
      },
      "execution_count": null,
      "outputs": []
    },
    {
      "cell_type": "code",
      "source": [
        "short_tweets_Ukr['text'].groupby(by=short_tweets_Ukr.index.hour).count().plot(kind='barh')\n",
        "plt.title(\"Posts per hour\")\n",
        "plt.xlabel(\"Number of posts\")\n",
        "plt.ylabel(\"Hour of the day\")"
      ],
      "metadata": {
        "id": "8PkdDActdWHp"
      },
      "execution_count": null,
      "outputs": []
    },
    {
      "cell_type": "markdown",
      "source": [
        "# Ru Ukr"
      ],
      "metadata": {
        "id": "orN95C_adYw5"
      }
    },
    {
      "cell_type": "code",
      "source": [
        "short_tweets_Rus['text'].str.len().groupby(by=short_tweets_Rus.index.month).mean().plot()\n",
        "short_tweets_Ukr['text'].str.len().groupby(by=short_tweets_Ukr.index.month).mean().plot()"
      ],
      "metadata": {
        "id": "SGY6t4ijdbVW"
      },
      "execution_count": null,
      "outputs": []
    },
    {
      "cell_type": "code",
      "source": [
        "short_tweets_Rus['positivity'].resample('B').mean().plot() \n",
        "short_tweets_Ukr['positivity'].resample('B').mean().plot() "
      ],
      "metadata": {
        "id": "oPCgXOnzddtR"
      },
      "execution_count": null,
      "outputs": []
    },
    {
      "cell_type": "code",
      "source": [
        "short_tweets_Rus['negative'].resample('B').sum().plot(color = 'b',label = 'Russia').legend() \n",
        "short_tweets_Ukr['negative'].resample('B').sum().plot(color = 'r',label = 'Ukraine').legend() "
      ],
      "metadata": {
        "id": "dHCArD1MdfMt"
      },
      "execution_count": null,
      "outputs": []
    },
    {
      "cell_type": "code",
      "source": [
        "ax = short_tweets_Rus['positivity'].resample('M').sum().plot(figsize=(16,4), color = 'red')\n",
        "short_tweets_Rus['negative'].resample('M').sum().plot(figsize=(16,4), ax = ax, color = 'green')\n",
        "short_tweets_Rus['trust'].resample('M').sum().plot(figsize=(16,4), ax = ax, color = 'blue')\n",
        "ax = short_tweets_Ukr['positivity'].resample('M').sum().plot(figsize=(16,4), color = 'yellow')\n",
        "short_tweets_Ukr['negative'].resample('M').sum().plot(figsize=(16,4), ax = ax, color = 'purple')\n",
        "short_tweets_Ukr['trust'].resample('M').sum().plot(figsize=(16,4), ax = ax, color = 'orange')"
      ],
      "metadata": {
        "id": "kOcayGiNdgon"
      },
      "execution_count": null,
      "outputs": []
    },
    {
      "cell_type": "code",
      "source": [
        "ax = short_tweets_Rus['positivity'].resample('M').mean().plot(figsize=(16,4), \n",
        "                                                          color = 'g', label='pos Ru')\n",
        "ax = short_tweets_Ukr['positivity'].resample('M').mean().plot(figsize=(16,4), \n",
        "                                                          color = 'y', label='pos Uk')\n",
        "short_tweets_Rus['negative'].resample('M').mean().plot(figsize=(16,4), ax = ax, \n",
        "                                                   label = 'neg Ru', color = 'r')\n",
        "short_tweets_Ukr['negative'].resample('M').mean().plot(figsize=(16,4), ax = ax, \n",
        "                                                   label = 'neg Uk', color = 'purple')\n",
        "short_tweets_Rus['trust'].resample('M').mean().plot(figsize=(16,4), ax = ax, \n",
        "                                                label = 'trust Ru',color = 'blue').legend()\n",
        "short_tweets_Ukr['trust'].resample('M').mean().plot(figsize=(16,4), ax = ax, \n",
        "                                                label = 'trust Uk',color = 'orange').legend()"
      ],
      "metadata": {
        "id": "rlfDkiqSdiQU"
      },
      "execution_count": null,
      "outputs": []
    },
    {
      "cell_type": "code",
      "source": [
        "plt.style.use('ggplot')\n",
        "ax = short_tweets_Rus['fear'].resample('M').mean().plot(figsize=(16,4), \n",
        "                                                          color = 'g', label='pos Ru')\n",
        "short_tweets_Rus['anger'].resample('M').mean().plot(figsize=(16,4), ax = ax, \n",
        "                                                   label = 'neg Ru', color = 'r')\n",
        "short_tweets_Rus['disgust'].resample('M').mean().plot(figsize=(16,4), ax = ax, \n",
        "                                                label = 'trust Ru',color = 'blue').legend()    \n",
        "short_tweets_Ukr['fear'].resample('M').mean().plot(figsize=(16,4), \n",
        "                                                          color = 'yellow', label='pos Uk')\n",
        "short_tweets_Ukr['anger'].resample('M').mean().plot(figsize=(16,4), ax = ax, \n",
        "                                                   label = 'neg Uk', color = 'orange')\n",
        "short_tweets_Ukr['disgust'].resample('M').mean().plot(figsize=(16,4), ax = ax, \n",
        "                                                label = 'trust Uk',color = 'purple').legend()                                                "
      ],
      "metadata": {
        "id": "UtQzCM5-dj71"
      },
      "execution_count": null,
      "outputs": []
    },
    {
      "cell_type": "code",
      "source": [
        ""
      ],
      "metadata": {
        "id": "sTVTkm2Gdlzu"
      },
      "execution_count": null,
      "outputs": []
    }
  ]
}